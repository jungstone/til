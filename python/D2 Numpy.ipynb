{
 "cells": [
  {
   "cell_type": "code",
   "execution_count": 2,
   "metadata": {},
   "outputs": [],
   "source": [
    "import numpy as np"
   ]
  },
  {
   "cell_type": "code",
   "execution_count": 6,
   "metadata": {},
   "outputs": [
    {
     "name": "stdout",
     "output_type": "stream",
     "text": [
      "[[1 1 2]\n",
      " [5 8 9]] (2, 3)\n"
     ]
    }
   ],
   "source": [
    "r1 = np.random.randint(10, size=(2,3))\n",
    "print(r1, r1.shape)"
   ]
  },
  {
   "cell_type": "code",
   "execution_count": 9,
   "metadata": {},
   "outputs": [
    {
     "name": "stdout",
     "output_type": "stream",
     "text": [
      "[[0 5]\n",
      " [0 4]\n",
      " [0 3]] (3, 2)\n"
     ]
    }
   ],
   "source": [
    "r2 = np.random.randint(10, size=(3,2))\n",
    "print(r2, r2.shape)"
   ]
  },
  {
   "cell_type": "code",
   "execution_count": 10,
   "metadata": {},
   "outputs": [
    {
     "name": "stdout",
     "output_type": "stream",
     "text": [
      "[[9 5 3]\n",
      " [9 0 5]\n",
      " [3 4 2]] (3, 3)\n"
     ]
    }
   ],
   "source": [
    "r3 = np.random.randint(10, size=(3,3))\n",
    "print(r3, r3.shape)"
   ]
  },
  {
   "cell_type": "code",
   "execution_count": 11,
   "metadata": {},
   "outputs": [
    {
     "data": {
      "text/plain": [
       "array([[1, 1, 2],\n",
       "       [5, 8, 9],\n",
       "       [9, 5, 3],\n",
       "       [9, 0, 5],\n",
       "       [3, 4, 2]])"
      ]
     },
     "execution_count": 11,
     "metadata": {},
     "output_type": "execute_result"
    }
   ],
   "source": [
    "np.concatenate([r1, r3])"
   ]
  },
  {
   "cell_type": "code",
   "execution_count": 15,
   "metadata": {},
   "outputs": [
    {
     "data": {
      "text/plain": [
       "array([[0, 5, 9, 5, 3],\n",
       "       [0, 4, 9, 0, 5],\n",
       "       [0, 3, 3, 4, 2]])"
      ]
     },
     "execution_count": 15,
     "metadata": {},
     "output_type": "execute_result"
    }
   ],
   "source": [
    "np.concatenate([r2, r3], axis=1)"
   ]
  },
  {
   "cell_type": "code",
   "execution_count": 16,
   "metadata": {},
   "outputs": [
    {
     "data": {
      "text/plain": [
       "array([0, 1, 2, 3, 4, 5, 6, 7, 8, 9])"
      ]
     },
     "execution_count": 16,
     "metadata": {},
     "output_type": "execute_result"
    }
   ],
   "source": [
    "r = np.arange(0,10)\n",
    "r"
   ]
  },
  {
   "cell_type": "code",
   "execution_count": 19,
   "metadata": {},
   "outputs": [
    {
     "data": {
      "text/plain": [
       "array([0, 1, 2, 3, 4])"
      ]
     },
     "execution_count": 19,
     "metadata": {},
     "output_type": "execute_result"
    }
   ],
   "source": [
    "r1, r2 = np.split(r, [5])\n",
    "r1"
   ]
  },
  {
   "cell_type": "code",
   "execution_count": 20,
   "metadata": {},
   "outputs": [
    {
     "data": {
      "text/plain": [
       "array([5, 6, 7, 8, 9])"
      ]
     },
     "execution_count": 20,
     "metadata": {},
     "output_type": "execute_result"
    }
   ],
   "source": [
    "r2"
   ]
  },
  {
   "cell_type": "code",
   "execution_count": 22,
   "metadata": {},
   "outputs": [
    {
     "data": {
      "text/plain": [
       "array([[1, 8, 7, 2, 6, 2],\n",
       "       [7, 5, 8, 8, 4, 8],\n",
       "       [3, 2, 2, 6, 7, 8],\n",
       "       [9, 8, 4, 3, 0, 0]])"
      ]
     },
     "execution_count": 22,
     "metadata": {},
     "output_type": "execute_result"
    }
   ],
   "source": [
    "a = np.random.randint(10, size=(4,6))\n",
    "a"
   ]
  },
  {
   "cell_type": "code",
   "execution_count": 25,
   "metadata": {},
   "outputs": [
    {
     "name": "stdout",
     "output_type": "stream",
     "text": [
      "[[1 8 7 2 6 2]\n",
      " [7 5 8 8 4 8]]\n",
      "[[3 2 2 6 7 8]\n",
      " [9 8 4 3 0 0]]\n"
     ]
    }
   ],
   "source": [
    "a1, a2 = np.vsplit(a, [2])\n",
    "print(a1)\n",
    "print(a2)"
   ]
  },
  {
   "cell_type": "code",
   "execution_count": 35,
   "metadata": {},
   "outputs": [
    {
     "name": "stdout",
     "output_type": "stream",
     "text": [
      "[[1 8]\n",
      " [7 5]\n",
      " [3 2]\n",
      " [9 8]]\n",
      "[[7 2]\n",
      " [8 8]\n",
      " [2 6]\n",
      " [4 3]]\n"
     ]
    }
   ],
   "source": [
    "a1, a2, a3 = np.hsplit(a, [2,4])\n",
    "print(a1)\n",
    "print(a2)"
   ]
  },
  {
   "cell_type": "code",
   "execution_count": 42,
   "metadata": {},
   "outputs": [
    {
     "data": {
      "text/plain": [
       "array([1, 2, 3, 4, 5, 6, 7, 8, 9])"
      ]
     },
     "execution_count": 42,
     "metadata": {},
     "output_type": "execute_result"
    }
   ],
   "source": [
    "result = np.arange(1, 10)\n",
    "result"
   ]
  },
  {
   "cell_type": "code",
   "execution_count": 44,
   "metadata": {},
   "outputs": [
    {
     "data": {
      "text/plain": [
       "array([[1, 2, 3],\n",
       "       [4, 5, 6],\n",
       "       [7, 8, 9]])"
      ]
     },
     "execution_count": 44,
     "metadata": {},
     "output_type": "execute_result"
    }
   ],
   "source": [
    "result = np.reshape(result, (3,3))\n",
    "result"
   ]
  },
  {
   "cell_type": "code",
   "execution_count": 45,
   "metadata": {},
   "outputs": [],
   "source": [
    "np.random.shuffle(result)"
   ]
  },
  {
   "cell_type": "code",
   "execution_count": 46,
   "metadata": {},
   "outputs": [
    {
     "data": {
      "text/plain": [
       "array([[7, 8, 9],\n",
       "       [4, 5, 6],\n",
       "       [1, 2, 3]])"
      ]
     },
     "execution_count": 46,
     "metadata": {},
     "output_type": "execute_result"
    }
   ],
   "source": [
    "result"
   ]
  },
  {
   "cell_type": "code",
   "execution_count": 51,
   "metadata": {},
   "outputs": [
    {
     "name": "stdout",
     "output_type": "stream",
     "text": [
      "before : [1, 2, 3, 4, 5]\n",
      "after : [3, 6, 9, 12, 15]\n"
     ]
    }
   ],
   "source": [
    "ls = [1,2,3,4,5]\n",
    "print(\"before : {}\".format(ls))\n",
    "for idx in range(len(ls)):\n",
    "    ls[idx] = ls[idx] * 3\n",
    "print(\"after : {}\".format(ls))"
   ]
  },
  {
   "cell_type": "code",
   "execution_count": 52,
   "metadata": {},
   "outputs": [
    {
     "name": "stdout",
     "output_type": "stream",
     "text": [
      "[ 3  6  9 12 15]\n",
      "<class 'numpy.ndarray'> [ 9 18 27 36 45]\n"
     ]
    }
   ],
   "source": [
    "na = np.array(ls)\n",
    "print(na)\n",
    "na *= 3\n",
    "print(type(na), na)"
   ]
  },
  {
   "cell_type": "code",
   "execution_count": 53,
   "metadata": {},
   "outputs": [
    {
     "name": "stdout",
     "output_type": "stream",
     "text": [
      "[ 9 18 27 36 45]\n",
      "[ 6  7  8  9 10]\n",
      "[ 54 126 216 324 450]\n"
     ]
    }
   ],
   "source": [
    "na_2 = np.array([6,7,8,9,10])\n",
    "result = na * na_2\n",
    "print(\"{}\\n{}\\n{}\".format(na, na_2, result))"
   ]
  },
  {
   "cell_type": "code",
   "execution_count": 54,
   "metadata": {},
   "outputs": [
    {
     "name": "stdout",
     "output_type": "stream",
     "text": [
      "[ True False False  True False]\n"
     ]
    }
   ],
   "source": [
    "idx = na_2 % 3 == 0\n",
    "print(idx)"
   ]
  },
  {
   "cell_type": "code",
   "execution_count": 55,
   "metadata": {},
   "outputs": [
    {
     "name": "stdout",
     "output_type": "stream",
     "text": [
      "[6 9]\n"
     ]
    }
   ],
   "source": [
    "print(na_2[idx])"
   ]
  },
  {
   "cell_type": "code",
   "execution_count": 57,
   "metadata": {},
   "outputs": [
    {
     "name": "stdout",
     "output_type": "stream",
     "text": [
      "[ True False False False  True]\n",
      "[1 5]\n"
     ]
    }
   ],
   "source": [
    "na1 = np.array([1,2,3,4,5])\n",
    "na2 = np.array([1,3,4,5,5])\n",
    "print(na1 == na2)\n",
    "print(na1[na1 == na2])\n"
   ]
  },
  {
   "cell_type": "code",
   "execution_count": 59,
   "metadata": {},
   "outputs": [
    {
     "name": "stdout",
     "output_type": "stream",
     "text": [
      "array1 : [0 1 2 3 4 5]\n",
      "array2 : [ 6  7  8  9 10 11]\n"
     ]
    }
   ],
   "source": [
    "na1 = np.arange(6)\n",
    "na2 = np.arange(6,12)\n",
    "print(\"array1 : {}\".format(na1))\n",
    "print(\"array2 : {}\".format(na2))"
   ]
  },
  {
   "cell_type": "code",
   "execution_count": 62,
   "metadata": {},
   "outputs": [
    {
     "name": "stdout",
     "output_type": "stream",
     "text": [
      "scala : [ 0 10 20 30 40 50]\n",
      "vector : [ 0  7 16 27 40 55]\n"
     ]
    }
   ],
   "source": [
    "print(\"scala : {}\".format(na1 * 10))\n",
    "print(\"vector : {}\".format(na1 * na2))"
   ]
  },
  {
   "cell_type": "code",
   "execution_count": 67,
   "metadata": {},
   "outputs": [
    {
     "name": "stdout",
     "output_type": "stream",
     "text": [
      "array3 : \n",
      "[[0 1 2]\n",
      " [3 4 5]]\n",
      "array4 : \n",
      "[[ 6  7  8]\n",
      " [ 9 10 11]]\n",
      "matrix : \n",
      "[[ 0  7 16]\n",
      " [27 40 55]]\n"
     ]
    }
   ],
   "source": [
    "na3 = na1.reshape(2,3)\n",
    "na4 = na2.reshape(2,3)\n",
    "print(\"array3 : \\n{}\".format(na3))\n",
    "print(\"array4 : \\n{}\".format(na4))\n",
    "print(\"matrix : \\n{}\".format(na3 * na4))"
   ]
  },
  {
   "cell_type": "code",
   "execution_count": 71,
   "metadata": {},
   "outputs": [
    {
     "name": "stdout",
     "output_type": "stream",
     "text": [
      "na1 : \n",
      "[ 0  1  2  3  4  5  6  7  8  9 10 11]\n",
      "na2 : \n",
      "[[ 0  1  2  3]\n",
      " [ 4  5  6  7]\n",
      " [ 8  9 10 11]]\n",
      "na3 : \n",
      "[[1 1 1 1]\n",
      " [1 1 1 1]\n",
      " [1 1 1 1]]\n"
     ]
    }
   ],
   "source": [
    "na1 = np.arange(12)\n",
    "na2 = na1.reshape(3,4)\n",
    "print(\"na1 : \\n{}\".format(na1))\n",
    "print(\"na2 : \\n{}\".format(na2))\n",
    "\n",
    "na3 = np.ones_like(na1)\n",
    "na3 = na3.reshape(3,4)\n",
    "print(\"na3 : \\n{}\".format(na3))\n"
   ]
  },
  {
   "cell_type": "code",
   "execution_count": 72,
   "metadata": {},
   "outputs": [
    {
     "name": "stdout",
     "output_type": "stream",
     "text": [
      "na2 + 1 : \n",
      "[[ 1  2  3  4]\n",
      " [ 5  6  7  8]\n",
      " [ 9 10 11 12]]\n",
      "na2 + na3 : \n",
      "[[ 1  2  3  4]\n",
      " [ 5  6  7  8]\n",
      " [ 9 10 11 12]]\n"
     ]
    }
   ],
   "source": [
    "print(\"na2 + 1 : \\n{}\".format(na2 + 1))\n",
    "print(\"na2 + na3 : \\n{}\".format(na2 + na3))"
   ]
  },
  {
   "cell_type": "code",
   "execution_count": 76,
   "metadata": {},
   "outputs": [
    {
     "name": "stdout",
     "output_type": "stream",
     "text": [
      "na2 : \n",
      "[[ 0  1  2  3]\n",
      " [ 4  5  6  7]\n",
      " [ 8  9 10 11]]\n",
      "na4 : \n",
      "[0 1 2 3]\n",
      "na2 + na4 : \n",
      "[[ 0  2  4  6]\n",
      " [ 4  6  8 10]\n",
      " [ 8 10 12 14]]\n",
      "na5 : \n",
      "[[0 1 2 3]\n",
      " [0 1 2 3]\n",
      " [0 1 2 3]]\n",
      "na2 + na5 : \n",
      "[[ 0  2  4  6]\n",
      " [ 4  6  8 10]\n",
      " [ 8 10 12 14]]\n"
     ]
    }
   ],
   "source": [
    "na4 = np.arange(4)\n",
    "print(\"na2 : \\n{}\".format(na2))\n",
    "print(\"na4 : \\n{}\".format(na4))\n",
    "print(\"na2 + na4 : \\n{}\".format(na2 + na4))\n",
    "\n",
    "na5 = np.stack((na4, na4, na4))\n",
    "print(\"na5 : \\n{}\".format(na5))\n",
    "print(\"na2 + na5 : \\n{}\".format(na2 + na5))"
   ]
  },
  {
   "cell_type": "code",
   "execution_count": 86,
   "metadata": {},
   "outputs": [
    {
     "name": "stdout",
     "output_type": "stream",
     "text": [
      "na2 : \n",
      "[[ 0  1  2  3]\n",
      " [ 4  5  6  7]\n",
      " [ 8  9 10 11]]\n",
      "na6 : \n",
      "[[0]\n",
      " [1]\n",
      " [2]]\n",
      "na2 + na6 : \n",
      "[[ 0  1  2  3]\n",
      " [ 5  6  7  8]\n",
      " [10 11 12 13]]\n",
      "na7 : \n",
      "[[0 0 0 0]\n",
      " [1 1 1 1]\n",
      " [2 2 2 2]]\n",
      "na2 + na7 : \n",
      "[[ 0  1  2  3]\n",
      " [ 5  6  7  8]\n",
      " [10 11 12 13]]\n"
     ]
    }
   ],
   "source": [
    "na6 = np.arange(3)[:, np.newaxis]\n",
    "print(\"na2 : \\n{}\".format(na2))\n",
    "print(\"na6 : \\n{}\".format(na6))\n",
    "print(\"na2 + na6 : \\n{}\".format(na2 + na6))\n",
    "na7 = np.array([[i for _ in range(4)] for i in range(3)])\n",
    "print(\"na7 : \\n{}\".format(na7))\n",
    "print(\"na2 + na7 : \\n{}\".format(na2 + na7))"
   ]
  },
  {
   "cell_type": "code",
   "execution_count": 89,
   "metadata": {},
   "outputs": [
    {
     "name": "stdout",
     "output_type": "stream",
     "text": [
      "random matrix : \n",
      "[[7 7 8]\n",
      " [7 8 6]]\n",
      "min : 6\n",
      "max : 8\n"
     ]
    }
   ],
   "source": [
    "c = np.random.rand(2,3)\n",
    "c_num = np.arange(5)\n",
    "c_num = (c*10).astype('int64')\n",
    "print(\"random matrix : \\n{}\".format(c_num))\n",
    "print(\"min : {}\".format(c_num.min()))\n",
    "print(\"max : {}\".format(c_num.max()))\n"
   ]
  },
  {
   "cell_type": "code",
   "execution_count": 94,
   "metadata": {},
   "outputs": [
    {
     "name": "stdout",
     "output_type": "stream",
     "text": [
      "argmin : 5\n",
      "argmax : 2\n",
      "mean : 7.166666666666667\n"
     ]
    }
   ],
   "source": [
    "print(\"argmin : {}\".format(c_num.argmin()))\n",
    "print(\"argmax : {}\".format(c_num.argmax()))\n",
    "print(\"mean : {}\".format(c_num.mean()))"
   ]
  },
  {
   "cell_type": "code",
   "execution_count": 101,
   "metadata": {},
   "outputs": [
    {
     "name": "stdout",
     "output_type": "stream",
     "text": [
      "random matrix : \n",
      "[[8 4 9]\n",
      " [3 7 0]]\n",
      "sum : 31\n",
      "sum_axis_0 : [11 11  9]\n",
      "sum_axis_1 : [21 10]\n",
      "median : 5.5\n"
     ]
    }
   ],
   "source": [
    "d = np.random.rand(2,3)\n",
    "d_num = np.arange(5)\n",
    "d_num = (d*10).astype('int64')\n",
    "print(\"random matrix : \\n{}\".format(d_num))\n",
    "print(\"sum : {}\".format(np.sum(d_num)))\n",
    "print(\"sum_axis_0 : {}\".format(np.sum(d_num, axis=0)))\n",
    "print(\"sum_axis_1 : {}\".format(np.sum(d_num, axis=1)))\n",
    "print(\"median : {}\".format(np.median(d_num)))"
   ]
  },
  {
   "cell_type": "code",
   "execution_count": 102,
   "metadata": {},
   "outputs": [
    {
     "name": "stdout",
     "output_type": "stream",
     "text": [
      "std : 3.131382371342656\n",
      "var : 9.805555555555555\n"
     ]
    }
   ],
   "source": [
    "print(\"std : {}\".format(np.std(d_num)))\n",
    "print(\"var : {}\".format(np.var(d_num)))"
   ]
  },
  {
   "cell_type": "code",
   "execution_count": 103,
   "metadata": {},
   "outputs": [
    {
     "name": "stdout",
     "output_type": "stream",
     "text": [
      "[3 4 5 6 7] [3 4 5 6 7] [1 3 5 7 9]\n",
      "\n",
      "[ True  True  True  True  True]\n",
      "True\n",
      "[False False  True False False]\n",
      "False\n",
      "[ True  True False False False]\n",
      "False\n"
     ]
    }
   ],
   "source": [
    "n1 = np.array(range(3,8))\n",
    "n2 = n1\n",
    "n3 = np.array(range(1,11,2))\n",
    "print(n1, n2, n3, end=\"\\n\\n\")\n",
    "print(n1 == n2)\n",
    "print(np.all(n1 == n2))\n",
    "print(n1 == n3)\n",
    "print(np.all(n1 == n3))\n",
    "print(n1 > n3)\n",
    "print(np.all(n1 > n3))"
   ]
  },
  {
   "cell_type": "code",
   "execution_count": 2,
   "metadata": {},
   "outputs": [],
   "source": [
    "import numpy as np"
   ]
  },
  {
   "cell_type": "code",
   "execution_count": 3,
   "metadata": {},
   "outputs": [
    {
     "name": "stdout",
     "output_type": "stream",
     "text": [
      "[3 4 5 6 7] [3 4 5 6 7] [1 3 5 7 9]\n",
      "\n",
      "[False False False False False]\n",
      "False\n",
      "[False False  True False False]\n",
      "True\n",
      "[ True  True False False False]\n",
      "True\n"
     ]
    }
   ],
   "source": [
    "n1 = np.array(range(3, 8))\n",
    "n2 = n1\n",
    "n3 = np.array(range(1,11,2))\n",
    "print(n1, n2, n3, end = \"\\n\\n\")\n",
    "print(n1 != n2)\n",
    "print(np.any(n1 != n2))\n",
    "print(n1 == n3)\n",
    "print(np.any(n1 == n3))\n",
    "print(n1 > n3)\n",
    "print(np.any(n1 > n3))"
   ]
  },
  {
   "cell_type": "code",
   "execution_count": 4,
   "metadata": {},
   "outputs": [
    {
     "name": "stdout",
     "output_type": "stream",
     "text": [
      "[  0   1   2   3   4   5   6   7   8   9  10  11  12  13  14  15  16  17\n",
      "  18  19  20  21  22  23  24  25  26  27  28  29  30  31  32  33  34  35\n",
      "  36  37  38  39  40  41  42  43  44  45  46  47  48  49  50  51  52  53\n",
      "  54  55  56  57  58  59  60  61  62  63  64  65  66  67  68  69  70  71\n",
      "  72  73  74  75  76  77  78  79  80  81  82  83  84  85  86  87  88  89\n",
      "  90  91  92  93  94  95  96  97  98  99 100]\n"
     ]
    },
    {
     "data": {
      "text/plain": [
       "(25.0, 45.0)"
      ]
     },
     "execution_count": 4,
     "metadata": {},
     "output_type": "execute_result"
    }
   ],
   "source": [
    "na = np.array([num for num in range(0, 101)])\n",
    "print(na)\n",
    "np.percentile(na, 25), np.percentile(na, 45)"
   ]
  },
  {
   "cell_type": "code",
   "execution_count": 5,
   "metadata": {},
   "outputs": [
    {
     "name": "stdout",
     "output_type": "stream",
     "text": [
      "[1 2 3 4 5]\n",
      "[0.         0.69314718 1.09861229 1.38629436 1.60943791]\n"
     ]
    }
   ],
   "source": [
    "na = np.arange(1, 6)\n",
    "print(na)\n",
    "print(np.log(na))"
   ]
  },
  {
   "cell_type": "code",
   "execution_count": 6,
   "metadata": {},
   "outputs": [],
   "source": [
    "ls = []\n",
    "size = int(1E7)\n",
    "for data in range(size):\n",
    "    ls.append(data)\n",
    "na = np.array(ls)"
   ]
  },
  {
   "cell_type": "code",
   "execution_count": 8,
   "metadata": {},
   "outputs": [
    {
     "name": "stdout",
     "output_type": "stream",
     "text": [
      "4666667\n"
     ]
    }
   ],
   "source": [
    "count = 0\n",
    "for idx in range(len(ls)):\n",
    "    if (ls[idx] % 3 == 0) or (ls[idx] % 5 == 0):\n",
    "        count += 1\n",
    "print(count)"
   ]
  },
  {
   "cell_type": "code",
   "execution_count": 10,
   "metadata": {},
   "outputs": [
    {
     "name": "stdout",
     "output_type": "stream",
     "text": [
      "4666667\n"
     ]
    }
   ],
   "source": [
    "count = len(na[(na%3 == 0) | (na%5 == 0)])\n",
    "print(count)"
   ]
  },
  {
   "cell_type": "code",
   "execution_count": 13,
   "metadata": {},
   "outputs": [
    {
     "name": "stdout",
     "output_type": "stream",
     "text": [
      "3571429\n"
     ]
    }
   ],
   "source": [
    "count = len(na[(na%4 == 0) | (na%7 == 0)])\n",
    "print(count)"
   ]
  },
  {
   "cell_type": "code",
   "execution_count": 14,
   "metadata": {},
   "outputs": [
    {
     "data": {
      "text/plain": [
       "array([0, 0, 1, 2, 2, 2, 3, 4, 4, 4, 4, 6, 6, 6, 7, 7, 7, 8, 9, 9])"
      ]
     },
     "execution_count": 14,
     "metadata": {},
     "output_type": "execute_result"
    }
   ],
   "source": [
    "data1 = np.random.randint(10, size=20)\n",
    "data1.sort()\n",
    "data1"
   ]
  },
  {
   "cell_type": "code",
   "execution_count": 16,
   "metadata": {},
   "outputs": [
    {
     "data": {
      "text/plain": [
       "array([0, 0, 0, 0, 2, 2, 2, 4, 4, 4, 5, 5, 6, 6, 6, 7, 8, 9, 9, 9])"
      ]
     },
     "execution_count": 16,
     "metadata": {},
     "output_type": "execute_result"
    }
   ],
   "source": [
    "data2 = np.random.randint(10, size=20)\n",
    "data2.sort()\n",
    "data2"
   ]
  },
  {
   "cell_type": "code",
   "execution_count": 17,
   "metadata": {},
   "outputs": [
    {
     "data": {
      "text/plain": [
       "array([9, 8, 7, 7, 7, 7, 6, 6, 5, 5, 5, 5, 4, 3, 3, 3, 3, 1, 1, 0])"
      ]
     },
     "execution_count": 17,
     "metadata": {},
     "output_type": "execute_result"
    }
   ],
   "source": [
    "data3 = np.random.randint(10, size=20)\n",
    "data3.sort()\n",
    "data3 = data3[::-1]\n",
    "data3"
   ]
  },
  {
   "cell_type": "code",
   "execution_count": 18,
   "metadata": {},
   "outputs": [
    {
     "data": {
      "text/plain": [
       "0.9737930132833887"
      ]
     },
     "execution_count": 18,
     "metadata": {},
     "output_type": "execute_result"
    }
   ],
   "source": [
    "np.corrcoef(data1, data2)[0][1]"
   ]
  },
  {
   "cell_type": "code",
   "execution_count": 19,
   "metadata": {},
   "outputs": [
    {
     "data": {
      "text/plain": [
       "-0.9713937642900439"
      ]
     },
     "execution_count": 19,
     "metadata": {},
     "output_type": "execute_result"
    }
   ],
   "source": [
    "np.corrcoef(data1, data3)[0][1]"
   ]
  },
  {
   "cell_type": "code",
   "execution_count": 20,
   "metadata": {},
   "outputs": [],
   "source": [
    "data4 = np.random.randint(10, size=20)\n",
    "data5 = np.random.randint(10, size=20)"
   ]
  },
  {
   "cell_type": "code",
   "execution_count": 3,
   "metadata": {},
   "outputs": [
    {
     "ename": "NameError",
     "evalue": "name 'data4' is not defined",
     "output_type": "error",
     "traceback": [
      "\u001b[0;31m---------------------------------------------------------------------------\u001b[0m",
      "\u001b[0;31mNameError\u001b[0m                                 Traceback (most recent call last)",
      "\u001b[0;32m<ipython-input-3-ab9d99f0de28>\u001b[0m in \u001b[0;36m<module>\u001b[0;34m()\u001b[0m\n\u001b[0;32m----> 1\u001b[0;31m \u001b[0mnp\u001b[0m\u001b[0;34m.\u001b[0m\u001b[0mcorrcoef\u001b[0m\u001b[0;34m(\u001b[0m\u001b[0mdata4\u001b[0m\u001b[0;34m,\u001b[0m \u001b[0mdata5\u001b[0m\u001b[0;34m)\u001b[0m\u001b[0;34m[\u001b[0m\u001b[0;36m0\u001b[0m\u001b[0;34m]\u001b[0m\u001b[0;34m[\u001b[0m\u001b[0;36m1\u001b[0m\u001b[0;34m]\u001b[0m\u001b[0;34m\u001b[0m\u001b[0m\n\u001b[0m",
      "\u001b[0;31mNameError\u001b[0m: name 'data4' is not defined"
     ]
    }
   ],
   "source": [
    "np.corrcoef(data4, data5)[0][1]"
   ]
  },
  {
   "cell_type": "code",
   "execution_count": 4,
   "metadata": {},
   "outputs": [],
   "source": [
    "import numpy as np\n",
    "import numpy as pd"
   ]
  },
  {
   "cell_type": "code",
   "execution_count": 5,
   "metadata": {},
   "outputs": [
    {
     "ename": "AttributeError",
     "evalue": "module 'numpy' has no attribute 'Series'",
     "output_type": "error",
     "traceback": [
      "\u001b[0;31m---------------------------------------------------------------------------\u001b[0m",
      "\u001b[0;31mAttributeError\u001b[0m                            Traceback (most recent call last)",
      "\u001b[0;32m<ipython-input-5-fe8412ada1de>\u001b[0m in \u001b[0;36m<module>\u001b[0;34m()\u001b[0m\n\u001b[0;32m----> 1\u001b[0;31m \u001b[0mdata\u001b[0m \u001b[0;34m=\u001b[0m \u001b[0mpd\u001b[0m\u001b[0;34m.\u001b[0m\u001b[0mSeries\u001b[0m\u001b[0;34m(\u001b[0m\u001b[0mnp\u001b[0m\u001b[0;34m.\u001b[0m\u001b[0mrandom\u001b[0m\u001b[0;34m.\u001b[0m\u001b[0mrandint\u001b[0m\u001b[0;34m(\u001b[0m\u001b[0;36m10\u001b[0m\u001b[0;34m,\u001b[0m \u001b[0msize\u001b[0m\u001b[0;34m=\u001b[0m\u001b[0;36m5\u001b[0m\u001b[0;34m)\u001b[0m\u001b[0;34m)\u001b[0m\u001b[0;34m\u001b[0m\u001b[0m\n\u001b[0m\u001b[1;32m      2\u001b[0m \u001b[0mdata\u001b[0m\u001b[0;34m\u001b[0m\u001b[0m\n",
      "\u001b[0;31mAttributeError\u001b[0m: module 'numpy' has no attribute 'Series'"
     ]
    }
   ],
   "source": [
    "data = pd.Series(np.random.randint(10, size=5)) \n",
    "data"
   ]
  },
  {
   "cell_type": "code",
   "execution_count": 6,
   "metadata": {},
   "outputs": [
    {
     "name": "stdout",
     "output_type": "stream",
     "text": [
      "NumPy version 1.15.1\n",
      "NumPy relaxed strides checking option: True\n",
      ".................x...................................................... [  1%]\n",
      "........................................................................ [  2%]\n",
      "........................................................................ [  4%]\n",
      "................................................s................x.x.... [  5%]\n",
      "........................................................................ [  7%]\n",
      "........................................................................ [  8%]\n",
      ".............................................sss........................ [  9%]\n",
      "........................................................................ [ 11%]\n",
      "..s.....................xx.............................................. [ 12%]\n",
      "........................................................................ [ 14%]\n",
      ".................................................................ss..... [ 15%]\n",
      "........................................................................ [ 17%]\n",
      "........................................................................ [ 18%]\n",
      "........................................................................ [ 19%]\n",
      "........................................................................ [ 21%]\n",
      "........................................................................ [ 22%]\n",
      "........................................................................ [ 24%]\n",
      "........................................................................ [ 25%]\n",
      ".....................................x.................................. [ 27%]\n",
      "........................................................................ [ 28%]\n",
      "........................................................................ [ 29%]\n",
      "........................................................................ [ 31%]\n",
      ".....s.................................s................."
     ]
    },
    {
     "data": {
      "text/plain": [
       "1.4142135623730951"
      ]
     },
     "execution_count": 6,
     "metadata": {},
     "output_type": "execute_result"
    },
    {
     "name": "stdout",
     "output_type": "stream",
     "text": [
      "F..s........... [ 32%]\n",
      "........................................................................ [ 34%]\n",
      "........................................................................ [ 35%]\n",
      "........................................................................ [ 37%]\n",
      "........................................................ss.s..s.......s. [ 38%]\n",
      "........................................................................ [ 39%]\n",
      ".............................FFsssssssssssssssssssssssssssssssssssssssss [ 41%]\n",
      "ssssssssssssssssssssssssssssssssssssssssssssssssssssssssssssssssssssssss [ 42%]\n",
      "ssssssssssssssssssssssssssssssssssssssssssssssssssssssssssssssssssssssss [ 44%]\n",
      "ssssssssssssssssssssssssssssssssssssssssssssssssssssssssssssssssssssssss [ 45%]\n",
      "ssssssssssssssssssssssssssssssssssssssssssssssssssssssssssssssssssssssss [ 47%]\n",
      "sssssssssssssssssssssssssssssssssss..................................... [ 48%]\n",
      ".................s...................................................... [ 49%]\n",
      "........................................................................ [ 51%]\n",
      "............................................................s........... [ 52%]\n",
      "........................................................................ [ 54%]\n",
      "........................................................................ [ 55%]\n",
      "........................................................................ [ 57%]\n",
      "........................................................................ [ 58%]\n",
      "........................................................................ [ 59%]\n",
      "........................................................................ [ 61%]\n",
      "........................................................................ [ 62%]\n",
      "........................................................................ [ 64%]\n",
      "......................................x................................. [ 65%]\n",
      "........................................................................ [ 67%]\n",
      "........................................................................ [ 68%]\n",
      "...........................s............................................ [ 69%]\n",
      "........................................................................ [ 71%]\n",
      "........................................................................ [ 72%]\n",
      "..............................................s......................... [ 74%]\n",
      "........................................................................ [ 75%]\n",
      "........................................................................ [ 77%]\n",
      "........................................................................ [ 78%]\n",
      "....................................s.xx................................ [ 79%]\n",
      "........................................................................ [ 81%]\n",
      "........................................................................ [ 82%]\n",
      "........................................................................ [ 84%]\n",
      "........................................................................ [ 85%]\n",
      "........................................................................ [ 87%]\n",
      "........................................................................ [ 88%]\n",
      "........................................................................ [ 89%]\n",
      "........................................................................ [ 91%]\n",
      "........................................................................ [ 92%]\n",
      "........................................................................ [ 94%]\n",
      "........................................................................ [ 95%]\n",
      "........................................................................ [ 97%]\n",
      "........................................................................ [ 98%]\n",
      "............sss......................................................... [ 99%]\n",
      "..                                                                       [100%]\n",
      "=================================== FAILURES ===================================\n",
      "_____________________ TestRealScalars.test_py2_float_print _____________________\n",
      "\n",
      "self = <numpy.core.tests.test_scalarprint.TestRealScalars object at 0x124e75400>\n",
      "\n",
      "    def test_py2_float_print(self):\n",
      "        # gh-10753\n",
      "        # In python2, the python float type implements an obsolte method\n",
      "        # tp_print, which overrides tp_repr and tp_str when using \"print\" to\n",
      "        # output to a \"real file\" (ie, not a StringIO). Make sure we don't\n",
      "        # inherit it.\n",
      "        x = np.double(0.1999999999999)\n",
      "        with TemporaryFile('r+t') as f:\n",
      "            print(x, file=f)\n",
      "            f.seek(0)\n",
      "            output = f.read()\n",
      "        assert_equal(output, str(x) + '\\n')\n",
      "        # In python2 the value float('0.1999999999999') prints with reduced\n",
      "        # precision as '0.2', but we want numpy's np.double('0.1999999999999')\n",
      "        # to print the unique value, '0.1999999999999'.\n",
      "    \n",
      "        # gh-11031\n",
      "        # Only in the python2 interactive shell and when stdout is a \"real\"\n",
      "        # file, the output of the last command is printed to stdout without\n",
      "        # Py_PRINT_RAW (unlike the print statement) so `>>> x` and `>>> print\n",
      "        # x` are potentially different. Make sure they are the same. The only\n",
      "        # way I found to get prompt-like output is using an actual prompt from\n",
      "        # the 'code' module. Again, must use tempfile to get a \"real\" file.\n",
      "    \n",
      "        # dummy user-input which enters one line and then ctrl-Ds.\n",
      "        def userinput():\n",
      "            yield 'np.sqrt(2)'\n",
      "            raise EOFError\n",
      "        gen = userinput()\n",
      "        input_func = lambda prompt=\"\": next(gen)\n",
      "    \n",
      "        with TemporaryFile('r+t') as fo, TemporaryFile('r+t') as fe:\n",
      "            orig_stdout, orig_stderr = sys.stdout, sys.stderr\n",
      "            sys.stdout, sys.stderr = fo, fe\n",
      "    \n",
      "            # py2 code.interact sends irrelevant internal DeprecationWarnings\n",
      "            with suppress_warnings() as sup:\n",
      "                sup.filter(DeprecationWarning)\n",
      "                code.interact(local={'np': np}, readfunc=input_func, banner='')\n",
      "    \n",
      "            sys.stdout, sys.stderr = orig_stdout, orig_stderr\n",
      "    \n",
      "            fo.seek(0)\n",
      "            capture = fo.read().strip()\n",
      "    \n",
      ">       assert_equal(capture, repr(np.sqrt(2)))\n",
      "E       AssertionError: \n",
      "E       Items are not equal:\n",
      "E        ACTUAL: ''\n",
      "E        DESIRED: '1.4142135623730951'\n",
      "\n",
      "capture    = ''\n",
      "f          = <_io.TextIOWrapper name=64 mode='r+t' encoding='UTF-8'>\n",
      "fe         = <_io.TextIOWrapper name=66 mode='r+t' encoding='UTF-8'>\n",
      "fo         = <_io.TextIOWrapper name=64 mode='r+t' encoding='UTF-8'>\n",
      "gen        = <generator object TestRealScalars.test_py2_float_print.<locals>.userinput at 0x1222060c0>\n",
      "input_func = <function TestRealScalars.test_py2_float_print.<locals>.<lambda> at 0x124fc8400>\n",
      "orig_stderr = <_pytest.capture.EncodedFile object at 0x11ecb2e10>\n",
      "orig_stdout = <_pytest.capture.EncodedFile object at 0x11ecb2898>\n",
      "output     = '0.1999999999999\\n'\n",
      "self       = <numpy.core.tests.test_scalarprint.TestRealScalars object at 0x124e75400>\n",
      "sup        = <numpy.testing._private.utils.suppress_warnings object at 0x124e758d0>\n",
      "userinput  = <function TestRealScalars.test_py2_float_print.<locals>.userinput at 0x124fc8158>\n",
      "x          = 0.1999999999999\n",
      "\n",
      "/anaconda3/lib/python3.7/site-packages/numpy/core/tests/test_scalarprint.py:97: AssertionError\n",
      "_____________________ TestSystemInfoReading.test_compile1 ______________________\n",
      "\n",
      "self = <distutils.unixccompiler.UnixCCompiler object at 0x122306fd0>\n",
      "obj = '/var/folders/g5/m4gggtbx6cdb4gmbpjhm3yy40000gn/T/tmp68ptab7j/foo.o'\n",
      "src = 'foo.c', ext = '.c', cc_args = ['-c'], extra_postargs = [], pp_opts = []\n",
      "\n",
      "    def UnixCCompiler__compile(self, obj, src, ext, cc_args, extra_postargs, pp_opts):\n",
      "        \"\"\"Compile a single source files with a Unix-style compiler.\"\"\"\n",
      "        # HP ad-hoc fix, see ticket 1383\n",
      "        ccomp = self.compiler_so\n",
      "        if ccomp[0] == 'aCC':\n",
      "            # remove flags that will trigger ANSI-C mode for aCC\n",
      "            if '-Ae' in ccomp:\n",
      "                ccomp.remove('-Ae')\n",
      "            if '-Aa' in ccomp:\n",
      "                ccomp.remove('-Aa')\n",
      "            # add flags for (almost) sane C++ handling\n",
      "            ccomp += ['-AA']\n",
      "            self.compiler_so = ccomp\n",
      "        # ensure OPT environment variable is read\n",
      "        if 'OPT' in os.environ:\n",
      "            from distutils.sysconfig import get_config_vars\n",
      "            opt = \" \".join(os.environ['OPT'].split())\n",
      "            gcv_opt = \" \".join(get_config_vars('OPT')[0].split())\n",
      "            ccomp_s = \" \".join(self.compiler_so)\n",
      "            if opt not in ccomp_s:\n",
      "                ccomp_s = ccomp_s.replace(gcv_opt, opt)\n",
      "                self.compiler_so = ccomp_s.split()\n",
      "            llink_s = \" \".join(self.linker_so)\n",
      "            if opt not in llink_s:\n",
      "                self.linker_so = llink_s.split() + opt.split()\n",
      "    \n",
      "        display = '%s: %s' % (os.path.basename(self.compiler_so[0]), src)\n",
      "    \n",
      "        # gcc style automatic dependencies, outputs a makefile (-MF) that lists\n",
      "        # all headers needed by a c file as a side effect of compilation (-MMD)\n",
      "        if getattr(self, '_auto_depends', False):\n",
      "            deps = ['-MMD', '-MF', obj + '.d']\n",
      "        else:\n",
      "            deps = []\n",
      "    \n",
      "        try:\n",
      "            self.spawn(self.compiler_so + cc_args + [src, '-o', obj] + deps +\n",
      ">                      extra_postargs, display = display)\n",
      "\n",
      "cc_args    = ['-c']\n",
      "ccomp      = ['gcc', '-Wno-unused-result', '-Wsign-compare', '-Wunreachable-code', '-DNDEBUG', '-g', ...]\n",
      "deps       = ['-MMD', '-MF', '/var/folders/g5/m4gggtbx6cdb4gmbpjhm3yy40000gn/T/tmp68ptab7j/foo.o.d']\n",
      "display    = 'gcc: foo.c'\n",
      "ext        = '.c'\n",
      "extra_postargs = []\n",
      "msg        = 'Command \"gcc -Wno-unused-result -Wsign-compare -Wunreachable-code -DNDEBUG -g -fwrapv -O3 -Wall -Wstrict-prototypes -...8ptab7j/foo.o -MMD -MF /var/folders/g5/m4gggtbx6cdb4gmbpjhm3yy40000gn/T/tmp68ptab7j/foo.o.d\" failed with exit status 1'\n",
      "obj        = '/var/folders/g5/m4gggtbx6cdb4gmbpjhm3yy40000gn/T/tmp68ptab7j/foo.o'\n",
      "pp_opts    = []\n",
      "self       = <distutils.unixccompiler.UnixCCompiler object at 0x122306fd0>\n",
      "src        = 'foo.c'\n",
      "\n",
      "/anaconda3/lib/python3.7/site-packages/numpy/distutils/unixccompiler.py:58: \n",
      "_ _ _ _ _ _ _ _ _ _ _ _ _ _ _ _ _ _ _ _ _ _ _ _ _ _ _ _ _ _ _ _ _ _ _ _ _ _ _ _ \n",
      "\n",
      "self = <distutils.unixccompiler.UnixCCompiler object at 0x122306fd0>\n",
      "args = (['gcc', '-Wno-unused-result', '-Wsign-compare', '-Wunreachable-code', '-DNDEBUG', '-g', ...],)\n",
      "kw = {'display': 'gcc: foo.c'}\n",
      "\n",
      ">   m = lambda self, *args, **kw: func(self, *args, **kw)\n",
      "\n",
      "args       = (['gcc', '-Wno-unused-result', '-Wsign-compare', '-Wunreachable-code', '-DNDEBUG', '-g', ...],)\n",
      "func       = <function CCompiler_spawn at 0x114c22d08>\n",
      "kw         = {'display': 'gcc: foo.c'}\n",
      "self       = <distutils.unixccompiler.UnixCCompiler object at 0x122306fd0>\n",
      "\n",
      "/anaconda3/lib/python3.7/site-packages/numpy/distutils/ccompiler.py:89: \n",
      "_ _ _ _ _ _ _ _ _ _ _ _ _ _ _ _ _ _ _ _ _ _ _ _ _ _ _ _ _ _ _ _ _ _ _ _ _ _ _ _ \n",
      "\n",
      "self = <distutils.unixccompiler.UnixCCompiler object at 0x122306fd0>\n",
      "cmd = 'gcc -Wno-unused-result -Wsign-compare -Wunreachable-code -DNDEBUG -g -fwrapv -O3 -Wall -Wstrict-prototypes -I/anacond...db4gmbpjhm3yy40000gn/T/tmp68ptab7j/foo.o -MMD -MF /var/folders/g5/m4gggtbx6cdb4gmbpjhm3yy40000gn/T/tmp68ptab7j/foo.o.d'\n",
      "display = 'gcc: foo.c'\n",
      "\n",
      "    def CCompiler_spawn(self, cmd, display=None):\n",
      "        \"\"\"\n",
      "        Execute a command in a sub-process.\n",
      "    \n",
      "        Parameters\n",
      "        ----------\n",
      "        cmd : str\n",
      "            The command to execute.\n",
      "        display : str or sequence of str, optional\n",
      "            The text to add to the log file kept by `numpy.distutils`.\n",
      "            If not given, `display` is equal to `cmd`.\n",
      "    \n",
      "        Returns\n",
      "        -------\n",
      "        None\n",
      "    \n",
      "        Raises\n",
      "        ------\n",
      "        DistutilsExecError\n",
      "            If the command failed, i.e. the exit status was not 0.\n",
      "    \n",
      "        \"\"\"\n",
      "        if display is None:\n",
      "            display = cmd\n",
      "            if is_sequence(display):\n",
      "                display = ' '.join(list(display))\n",
      "        log.info(display)\n",
      "        s, o = exec_command(cmd)\n",
      "        if s:\n",
      "            if is_sequence(cmd):\n",
      "                cmd = ' '.join(list(cmd))\n",
      "            try:\n",
      "                print(o)\n",
      "            except UnicodeError:\n",
      "                # When installing through pip, `o` can contain non-ascii chars\n",
      "                pass\n",
      "            if re.search('Too many open files', o):\n",
      "                msg = '\\nTry rerunning setup command until build succeeds.'\n",
      "            else:\n",
      "                msg = ''\n",
      ">           raise DistutilsExecError('Command \"%s\" failed with exit status %d%s' % (cmd, s, msg))\n",
      "E           distutils.errors.DistutilsExecError: Command \"gcc -Wno-unused-result -Wsign-compare -Wunreachable-code -DNDEBUG -g -fwrapv -O3 -Wall -Wstrict-prototypes -I/anaconda3/include -arch x86_64 -I/anaconda3/include -arch x86_64 -c foo.c -o /var/folders/g5/m4gggtbx6cdb4gmbpjhm3yy40000gn/T/tmp68ptab7j/foo.o -MMD -MF /var/folders/g5/m4gggtbx6cdb4gmbpjhm3yy40000gn/T/tmp68ptab7j/foo.o.d\" failed with exit status 1\n",
      "\n",
      "cmd        = 'gcc -Wno-unused-result -Wsign-compare -Wunreachable-code -DNDEBUG -g -fwrapv -O3 -Wall -Wstrict-prototypes -I/anacond...db4gmbpjhm3yy40000gn/T/tmp68ptab7j/foo.o -MMD -MF /var/folders/g5/m4gggtbx6cdb4gmbpjhm3yy40000gn/T/tmp68ptab7j/foo.o.d'\n",
      "display    = 'gcc: foo.c'\n",
      "msg        = ''\n",
      "o          = \"xcode-select: note: no developer tools were found at '/Applications/Xcode.app', requesting install. Choose an option in the dialog to download the command line developer tools.\"\n",
      "s          = 1\n",
      "self       = <distutils.unixccompiler.UnixCCompiler object at 0x122306fd0>\n",
      "\n",
      "/anaconda3/lib/python3.7/site-packages/numpy/distutils/ccompiler.py:152: DistutilsExecError\n",
      "\n",
      "During handling of the above exception, another exception occurred:\n",
      "\n",
      "self = <numpy.distutils.tests.test_system_info.TestSystemInfoReading object at 0x1223064a8>\n",
      "\n",
      "    @pytest.mark.skipif(not HAVE_COMPILER, reason=\"Missing compiler\")\n",
      "    def test_compile1(self):\n",
      "        # Compile source and link the first source\n",
      "        c = customized_ccompiler()\n",
      "        previousDir = os.getcwd()\n",
      "        try:\n",
      "            # Change directory to not screw up directories\n",
      "            os.chdir(self._dir1)\n",
      ">           c.compile([os.path.basename(self._src1)], output_dir=self._dir1)\n",
      "\n",
      "c          = <distutils.unixccompiler.UnixCCompiler object at 0x122306fd0>\n",
      "previousDir = '/Users/mac/Documents/TIL'\n",
      "self       = <numpy.distutils.tests.test_system_info.TestSystemInfoReading object at 0x1223064a8>\n",
      "\n",
      "/anaconda3/lib/python3.7/site-packages/numpy/distutils/tests/test_system_info.py:211: \n",
      "_ _ _ _ _ _ _ _ _ _ _ _ _ _ _ _ _ _ _ _ _ _ _ _ _ _ _ _ _ _ _ _ _ _ _ _ _ _ _ _ \n",
      "/anaconda3/lib/python3.7/site-packages/numpy/distutils/ccompiler.py:89: in <lambda>\n",
      "    m = lambda self, *args, **kw: func(self, *args, **kw)\n",
      "/anaconda3/lib/python3.7/site-packages/numpy/distutils/ccompiler.py:343: in CCompiler_compile\n",
      "    single_compile(o)\n",
      "/anaconda3/lib/python3.7/site-packages/numpy/distutils/ccompiler.py:303: in single_compile\n",
      "    self._compile(obj, src, ext, cc_args, extra_postargs, pp_opts)\n",
      "/anaconda3/lib/python3.7/site-packages/numpy/distutils/ccompiler.py:89: in <lambda>\n",
      "    m = lambda self, *args, **kw: func(self, *args, **kw)\n",
      "_ _ _ _ _ _ _ _ _ _ _ _ _ _ _ _ _ _ _ _ _ _ _ _ _ _ _ _ _ _ _ _ _ _ _ _ _ _ _ _ \n",
      "\n",
      "self = <distutils.unixccompiler.UnixCCompiler object at 0x122306fd0>\n",
      "obj = '/var/folders/g5/m4gggtbx6cdb4gmbpjhm3yy40000gn/T/tmp68ptab7j/foo.o'\n",
      "src = 'foo.c', ext = '.c', cc_args = ['-c'], extra_postargs = [], pp_opts = []\n",
      "\n",
      "    def UnixCCompiler__compile(self, obj, src, ext, cc_args, extra_postargs, pp_opts):\n",
      "        \"\"\"Compile a single source files with a Unix-style compiler.\"\"\"\n",
      "        # HP ad-hoc fix, see ticket 1383\n",
      "        ccomp = self.compiler_so\n",
      "        if ccomp[0] == 'aCC':\n",
      "            # remove flags that will trigger ANSI-C mode for aCC\n",
      "            if '-Ae' in ccomp:\n",
      "                ccomp.remove('-Ae')\n",
      "            if '-Aa' in ccomp:\n",
      "                ccomp.remove('-Aa')\n",
      "            # add flags for (almost) sane C++ handling\n",
      "            ccomp += ['-AA']\n",
      "            self.compiler_so = ccomp\n",
      "        # ensure OPT environment variable is read\n",
      "        if 'OPT' in os.environ:\n",
      "            from distutils.sysconfig import get_config_vars\n",
      "            opt = \" \".join(os.environ['OPT'].split())\n",
      "            gcv_opt = \" \".join(get_config_vars('OPT')[0].split())\n",
      "            ccomp_s = \" \".join(self.compiler_so)\n"
     ]
    },
    {
     "name": "stdout",
     "output_type": "stream",
     "text": [
      "            if opt not in ccomp_s:\n",
      "                ccomp_s = ccomp_s.replace(gcv_opt, opt)\n",
      "                self.compiler_so = ccomp_s.split()\n",
      "            llink_s = \" \".join(self.linker_so)\n",
      "            if opt not in llink_s:\n",
      "                self.linker_so = llink_s.split() + opt.split()\n",
      "    \n",
      "        display = '%s: %s' % (os.path.basename(self.compiler_so[0]), src)\n",
      "    \n",
      "        # gcc style automatic dependencies, outputs a makefile (-MF) that lists\n",
      "        # all headers needed by a c file as a side effect of compilation (-MMD)\n",
      "        if getattr(self, '_auto_depends', False):\n",
      "            deps = ['-MMD', '-MF', obj + '.d']\n",
      "        else:\n",
      "            deps = []\n",
      "    \n",
      "        try:\n",
      "            self.spawn(self.compiler_so + cc_args + [src, '-o', obj] + deps +\n",
      "                       extra_postargs, display = display)\n",
      "        except DistutilsExecError:\n",
      "            msg = str(get_exception())\n",
      ">           raise CompileError(msg)\n",
      "E           distutils.errors.CompileError: Command \"gcc -Wno-unused-result -Wsign-compare -Wunreachable-code -DNDEBUG -g -fwrapv -O3 -Wall -Wstrict-prototypes -I/anaconda3/include -arch x86_64 -I/anaconda3/include -arch x86_64 -c foo.c -o /var/folders/g5/m4gggtbx6cdb4gmbpjhm3yy40000gn/T/tmp68ptab7j/foo.o -MMD -MF /var/folders/g5/m4gggtbx6cdb4gmbpjhm3yy40000gn/T/tmp68ptab7j/foo.o.d\" failed with exit status 1\n",
      "\n",
      "cc_args    = ['-c']\n",
      "ccomp      = ['gcc', '-Wno-unused-result', '-Wsign-compare', '-Wunreachable-code', '-DNDEBUG', '-g', ...]\n",
      "deps       = ['-MMD', '-MF', '/var/folders/g5/m4gggtbx6cdb4gmbpjhm3yy40000gn/T/tmp68ptab7j/foo.o.d']\n",
      "display    = 'gcc: foo.c'\n",
      "ext        = '.c'\n",
      "extra_postargs = []\n",
      "msg        = 'Command \"gcc -Wno-unused-result -Wsign-compare -Wunreachable-code -DNDEBUG -g -fwrapv -O3 -Wall -Wstrict-prototypes -...8ptab7j/foo.o -MMD -MF /var/folders/g5/m4gggtbx6cdb4gmbpjhm3yy40000gn/T/tmp68ptab7j/foo.o.d\" failed with exit status 1'\n",
      "obj        = '/var/folders/g5/m4gggtbx6cdb4gmbpjhm3yy40000gn/T/tmp68ptab7j/foo.o'\n",
      "pp_opts    = []\n",
      "self       = <distutils.unixccompiler.UnixCCompiler object at 0x122306fd0>\n",
      "src        = 'foo.c'\n",
      "\n",
      "/anaconda3/lib/python3.7/site-packages/numpy/distutils/unixccompiler.py:61: CompileError\n",
      "----------------------------- Captured stdout call -----------------------------\n",
      "xcode-select: note: no developer tools were found at '/Applications/Xcode.app', requesting install. Choose an option in the dialog to download the command line developer tools.\n",
      "xcode-select: note: no developer tools were found at '/Applications/Xcode.app', requesting install. Choose an option in the dialog to download the command line developer tools.\n",
      "_____________________ TestSystemInfoReading.test_compile2 ______________________\n",
      "\n",
      "self = <distutils.unixccompiler.UnixCCompiler object at 0x124e8ddd8>\n",
      "obj = '/var/folders/g5/m4gggtbx6cdb4gmbpjhm3yy40000gn/T/tmptt885bd2/bar.o'\n",
      "src = 'bar.c', ext = '.c', cc_args = ['-c']\n",
      "extra_postargs = ['-Wl,-rpath=/var/folders/g5/m4gggtbx6cdb4gmbpjhm3yy40000gn/T/tmptt885bd2/libbar.so']\n",
      "pp_opts = []\n",
      "\n",
      "    def UnixCCompiler__compile(self, obj, src, ext, cc_args, extra_postargs, pp_opts):\n",
      "        \"\"\"Compile a single source files with a Unix-style compiler.\"\"\"\n",
      "        # HP ad-hoc fix, see ticket 1383\n",
      "        ccomp = self.compiler_so\n",
      "        if ccomp[0] == 'aCC':\n",
      "            # remove flags that will trigger ANSI-C mode for aCC\n",
      "            if '-Ae' in ccomp:\n",
      "                ccomp.remove('-Ae')\n",
      "            if '-Aa' in ccomp:\n",
      "                ccomp.remove('-Aa')\n",
      "            # add flags for (almost) sane C++ handling\n",
      "            ccomp += ['-AA']\n",
      "            self.compiler_so = ccomp\n",
      "        # ensure OPT environment variable is read\n",
      "        if 'OPT' in os.environ:\n",
      "            from distutils.sysconfig import get_config_vars\n",
      "            opt = \" \".join(os.environ['OPT'].split())\n",
      "            gcv_opt = \" \".join(get_config_vars('OPT')[0].split())\n",
      "            ccomp_s = \" \".join(self.compiler_so)\n",
      "            if opt not in ccomp_s:\n",
      "                ccomp_s = ccomp_s.replace(gcv_opt, opt)\n",
      "                self.compiler_so = ccomp_s.split()\n",
      "            llink_s = \" \".join(self.linker_so)\n",
      "            if opt not in llink_s:\n",
      "                self.linker_so = llink_s.split() + opt.split()\n",
      "    \n",
      "        display = '%s: %s' % (os.path.basename(self.compiler_so[0]), src)\n",
      "    \n",
      "        # gcc style automatic dependencies, outputs a makefile (-MF) that lists\n",
      "        # all headers needed by a c file as a side effect of compilation (-MMD)\n",
      "        if getattr(self, '_auto_depends', False):\n",
      "            deps = ['-MMD', '-MF', obj + '.d']\n",
      "        else:\n",
      "            deps = []\n",
      "    \n",
      "        try:\n",
      "            self.spawn(self.compiler_so + cc_args + [src, '-o', obj] + deps +\n",
      ">                      extra_postargs, display = display)\n",
      "\n",
      "cc_args    = ['-c']\n",
      "ccomp      = ['gcc', '-Wno-unused-result', '-Wsign-compare', '-Wunreachable-code', '-DNDEBUG', '-g', ...]\n",
      "deps       = ['-MMD', '-MF', '/var/folders/g5/m4gggtbx6cdb4gmbpjhm3yy40000gn/T/tmptt885bd2/bar.o.d']\n",
      "display    = 'gcc: bar.c'\n",
      "ext        = '.c'\n",
      "extra_postargs = ['-Wl,-rpath=/var/folders/g5/m4gggtbx6cdb4gmbpjhm3yy40000gn/T/tmptt885bd2/libbar.so']\n",
      "msg        = 'Command \"gcc -Wno-unused-result -Wsign-compare -Wunreachable-code -DNDEBUG -g -fwrapv -O3 -Wall -Wstrict-prototypes -...2/bar.o.d -Wl,-rpath=/var/folders/g5/m4gggtbx6cdb4gmbpjhm3yy40000gn/T/tmptt885bd2/libbar.so\" failed with exit status 1'\n",
      "obj        = '/var/folders/g5/m4gggtbx6cdb4gmbpjhm3yy40000gn/T/tmptt885bd2/bar.o'\n",
      "pp_opts    = []\n",
      "self       = <distutils.unixccompiler.UnixCCompiler object at 0x124e8ddd8>\n",
      "src        = 'bar.c'\n",
      "\n",
      "/anaconda3/lib/python3.7/site-packages/numpy/distutils/unixccompiler.py:58: \n",
      "_ _ _ _ _ _ _ _ _ _ _ _ _ _ _ _ _ _ _ _ _ _ _ _ _ _ _ _ _ _ _ _ _ _ _ _ _ _ _ _ \n",
      "\n",
      "self = <distutils.unixccompiler.UnixCCompiler object at 0x124e8ddd8>\n",
      "args = (['gcc', '-Wno-unused-result', '-Wsign-compare', '-Wunreachable-code', '-DNDEBUG', '-g', ...],)\n",
      "kw = {'display': 'gcc: bar.c'}\n",
      "\n",
      ">   m = lambda self, *args, **kw: func(self, *args, **kw)\n",
      "\n",
      "args       = (['gcc', '-Wno-unused-result', '-Wsign-compare', '-Wunreachable-code', '-DNDEBUG', '-g', ...],)\n",
      "func       = <function CCompiler_spawn at 0x114c22d08>\n",
      "kw         = {'display': 'gcc: bar.c'}\n",
      "self       = <distutils.unixccompiler.UnixCCompiler object at 0x124e8ddd8>\n",
      "\n",
      "/anaconda3/lib/python3.7/site-packages/numpy/distutils/ccompiler.py:89: \n",
      "_ _ _ _ _ _ _ _ _ _ _ _ _ _ _ _ _ _ _ _ _ _ _ _ _ _ _ _ _ _ _ _ _ _ _ _ _ _ _ _ \n",
      "\n",
      "self = <distutils.unixccompiler.UnixCCompiler object at 0x124e8ddd8>\n",
      "cmd = 'gcc -Wno-unused-result -Wsign-compare -Wunreachable-code -DNDEBUG -g -fwrapv -O3 -Wall -Wstrict-prototypes -I/anacond...pjhm3yy40000gn/T/tmptt885bd2/bar.o.d -Wl,-rpath=/var/folders/g5/m4gggtbx6cdb4gmbpjhm3yy40000gn/T/tmptt885bd2/libbar.so'\n",
      "display = 'gcc: bar.c'\n",
      "\n",
      "    def CCompiler_spawn(self, cmd, display=None):\n",
      "        \"\"\"\n",
      "        Execute a command in a sub-process.\n",
      "    \n",
      "        Parameters\n",
      "        ----------\n",
      "        cmd : str\n",
      "            The command to execute.\n",
      "        display : str or sequence of str, optional\n",
      "            The text to add to the log file kept by `numpy.distutils`.\n",
      "            If not given, `display` is equal to `cmd`.\n",
      "    \n",
      "        Returns\n",
      "        -------\n",
      "        None\n",
      "    \n",
      "        Raises\n",
      "        ------\n",
      "        DistutilsExecError\n",
      "            If the command failed, i.e. the exit status was not 0.\n",
      "    \n",
      "        \"\"\"\n",
      "        if display is None:\n",
      "            display = cmd\n",
      "            if is_sequence(display):\n",
      "                display = ' '.join(list(display))\n",
      "        log.info(display)\n",
      "        s, o = exec_command(cmd)\n",
      "        if s:\n",
      "            if is_sequence(cmd):\n",
      "                cmd = ' '.join(list(cmd))\n",
      "            try:\n",
      "                print(o)\n",
      "            except UnicodeError:\n",
      "                # When installing through pip, `o` can contain non-ascii chars\n",
      "                pass\n",
      "            if re.search('Too many open files', o):\n",
      "                msg = '\\nTry rerunning setup command until build succeeds.'\n",
      "            else:\n",
      "                msg = ''\n",
      ">           raise DistutilsExecError('Command \"%s\" failed with exit status %d%s' % (cmd, s, msg))\n",
      "E           distutils.errors.DistutilsExecError: Command \"gcc -Wno-unused-result -Wsign-compare -Wunreachable-code -DNDEBUG -g -fwrapv -O3 -Wall -Wstrict-prototypes -I/anaconda3/include -arch x86_64 -I/anaconda3/include -arch x86_64 -c bar.c -o /var/folders/g5/m4gggtbx6cdb4gmbpjhm3yy40000gn/T/tmptt885bd2/bar.o -MMD -MF /var/folders/g5/m4gggtbx6cdb4gmbpjhm3yy40000gn/T/tmptt885bd2/bar.o.d -Wl,-rpath=/var/folders/g5/m4gggtbx6cdb4gmbpjhm3yy40000gn/T/tmptt885bd2/libbar.so\" failed with exit status 1\n",
      "\n",
      "cmd        = 'gcc -Wno-unused-result -Wsign-compare -Wunreachable-code -DNDEBUG -g -fwrapv -O3 -Wall -Wstrict-prototypes -I/anacond...pjhm3yy40000gn/T/tmptt885bd2/bar.o.d -Wl,-rpath=/var/folders/g5/m4gggtbx6cdb4gmbpjhm3yy40000gn/T/tmptt885bd2/libbar.so'\n",
      "display    = 'gcc: bar.c'\n",
      "msg        = ''\n",
      "o          = \"xcode-select: note: no developer tools were found at '/Applications/Xcode.app', requesting install. Choose an option in the dialog to download the command line developer tools.\"\n",
      "s          = 1\n",
      "self       = <distutils.unixccompiler.UnixCCompiler object at 0x124e8ddd8>\n",
      "\n",
      "/anaconda3/lib/python3.7/site-packages/numpy/distutils/ccompiler.py:152: DistutilsExecError\n",
      "\n",
      "During handling of the above exception, another exception occurred:\n",
      "\n",
      "self = <numpy.distutils.tests.test_system_info.TestSystemInfoReading object at 0x124d77748>\n",
      "\n",
      "    @pytest.mark.skipif(not HAVE_COMPILER, reason=\"Missing compiler\")\n",
      "    @pytest.mark.skipif('msvc' in repr(ccompiler.new_compiler()),\n",
      "                         reason=\"Fails with MSVC compiler \")\n",
      "    def test_compile2(self):\n",
      "        # Compile source and link the second source\n",
      "        tsi = self.c_temp2\n",
      "        c = customized_ccompiler()\n",
      "        extra_link_args = tsi.calc_extra_info()['extra_link_args']\n",
      "        previousDir = os.getcwd()\n",
      "        try:\n",
      "            # Change directory to not screw up directories\n",
      "            os.chdir(self._dir2)\n",
      "            c.compile([os.path.basename(self._src2)], output_dir=self._dir2,\n",
      ">                     extra_postargs=extra_link_args)\n",
      "\n",
      "c          = <distutils.unixccompiler.UnixCCompiler object at 0x124e8ddd8>\n",
      "extra_link_args = ['-Wl,-rpath=/var/folders/g5/m4gggtbx6cdb4gmbpjhm3yy40000gn/T/tmptt885bd2/libbar.so']\n",
      "previousDir = '/Users/mac/Documents/TIL'\n",
      "self       = <numpy.distutils.tests.test_system_info.TestSystemInfoReading object at 0x124d77748>\n",
      "tsi        = <numpy.distutils.tests.test_system_info.Temp2Info object at 0x124d77e80>\n",
      "\n",
      "/anaconda3/lib/python3.7/site-packages/numpy/distutils/tests/test_system_info.py:231: \n",
      "_ _ _ _ _ _ _ _ _ _ _ _ _ _ _ _ _ _ _ _ _ _ _ _ _ _ _ _ _ _ _ _ _ _ _ _ _ _ _ _ \n",
      "/anaconda3/lib/python3.7/site-packages/numpy/distutils/ccompiler.py:89: in <lambda>\n",
      "    m = lambda self, *args, **kw: func(self, *args, **kw)\n",
      "/anaconda3/lib/python3.7/site-packages/numpy/distutils/ccompiler.py:343: in CCompiler_compile\n",
      "    single_compile(o)\n",
      "/anaconda3/lib/python3.7/site-packages/numpy/distutils/ccompiler.py:303: in single_compile\n",
      "    self._compile(obj, src, ext, cc_args, extra_postargs, pp_opts)\n",
      "/anaconda3/lib/python3.7/site-packages/numpy/distutils/ccompiler.py:89: in <lambda>\n",
      "    m = lambda self, *args, **kw: func(self, *args, **kw)\n",
      "_ _ _ _ _ _ _ _ _ _ _ _ _ _ _ _ _ _ _ _ _ _ _ _ _ _ _ _ _ _ _ _ _ _ _ _ _ _ _ _ \n",
      "\n",
      "self = <distutils.unixccompiler.UnixCCompiler object at 0x124e8ddd8>\n",
      "obj = '/var/folders/g5/m4gggtbx6cdb4gmbpjhm3yy40000gn/T/tmptt885bd2/bar.o'\n",
      "src = 'bar.c', ext = '.c', cc_args = ['-c']\n",
      "extra_postargs = ['-Wl,-rpath=/var/folders/g5/m4gggtbx6cdb4gmbpjhm3yy40000gn/T/tmptt885bd2/libbar.so']\n",
      "pp_opts = []\n",
      "\n",
      "    def UnixCCompiler__compile(self, obj, src, ext, cc_args, extra_postargs, pp_opts):\n",
      "        \"\"\"Compile a single source files with a Unix-style compiler.\"\"\"\n",
      "        # HP ad-hoc fix, see ticket 1383\n",
      "        ccomp = self.compiler_so\n",
      "        if ccomp[0] == 'aCC':\n",
      "            # remove flags that will trigger ANSI-C mode for aCC\n",
      "            if '-Ae' in ccomp:\n",
      "                ccomp.remove('-Ae')\n",
      "            if '-Aa' in ccomp:\n",
      "                ccomp.remove('-Aa')\n",
      "            # add flags for (almost) sane C++ handling\n",
      "            ccomp += ['-AA']\n",
      "            self.compiler_so = ccomp\n",
      "        # ensure OPT environment variable is read\n",
      "        if 'OPT' in os.environ:\n",
      "            from distutils.sysconfig import get_config_vars\n",
      "            opt = \" \".join(os.environ['OPT'].split())\n",
      "            gcv_opt = \" \".join(get_config_vars('OPT')[0].split())\n",
      "            ccomp_s = \" \".join(self.compiler_so)\n",
      "            if opt not in ccomp_s:\n",
      "                ccomp_s = ccomp_s.replace(gcv_opt, opt)\n",
      "                self.compiler_so = ccomp_s.split()\n",
      "            llink_s = \" \".join(self.linker_so)\n",
      "            if opt not in llink_s:\n",
      "                self.linker_so = llink_s.split() + opt.split()\n",
      "    \n",
      "        display = '%s: %s' % (os.path.basename(self.compiler_so[0]), src)\n",
      "    \n",
      "        # gcc style automatic dependencies, outputs a makefile (-MF) that lists\n",
      "        # all headers needed by a c file as a side effect of compilation (-MMD)\n",
      "        if getattr(self, '_auto_depends', False):\n",
      "            deps = ['-MMD', '-MF', obj + '.d']\n",
      "        else:\n",
      "            deps = []\n",
      "    \n",
      "        try:\n",
      "            self.spawn(self.compiler_so + cc_args + [src, '-o', obj] + deps +\n",
      "                       extra_postargs, display = display)\n",
      "        except DistutilsExecError:\n",
      "            msg = str(get_exception())\n",
      ">           raise CompileError(msg)\n",
      "E           distutils.errors.CompileError: Command \"gcc -Wno-unused-result -Wsign-compare -Wunreachable-code -DNDEBUG -g -fwrapv -O3 -Wall -Wstrict-prototypes -I/anaconda3/include -arch x86_64 -I/anaconda3/include -arch x86_64 -c bar.c -o /var/folders/g5/m4gggtbx6cdb4gmbpjhm3yy40000gn/T/tmptt885bd2/bar.o -MMD -MF /var/folders/g5/m4gggtbx6cdb4gmbpjhm3yy40000gn/T/tmptt885bd2/bar.o.d -Wl,-rpath=/var/folders/g5/m4gggtbx6cdb4gmbpjhm3yy40000gn/T/tmptt885bd2/libbar.so\" failed with exit status 1\n",
      "\n",
      "cc_args    = ['-c']\n",
      "ccomp      = ['gcc', '-Wno-unused-result', '-Wsign-compare', '-Wunreachable-code', '-DNDEBUG', '-g', ...]\n",
      "deps       = ['-MMD', '-MF', '/var/folders/g5/m4gggtbx6cdb4gmbpjhm3yy40000gn/T/tmptt885bd2/bar.o.d']\n",
      "display    = 'gcc: bar.c'\n",
      "ext        = '.c'\n",
      "extra_postargs = ['-Wl,-rpath=/var/folders/g5/m4gggtbx6cdb4gmbpjhm3yy40000gn/T/tmptt885bd2/libbar.so']\n",
      "msg        = 'Command \"gcc -Wno-unused-result -Wsign-compare -Wunreachable-code -DNDEBUG -g -fwrapv -O3 -Wall -Wstrict-prototypes -...2/bar.o.d -Wl,-rpath=/var/folders/g5/m4gggtbx6cdb4gmbpjhm3yy40000gn/T/tmptt885bd2/libbar.so\" failed with exit status 1'\n",
      "obj        = '/var/folders/g5/m4gggtbx6cdb4gmbpjhm3yy40000gn/T/tmptt885bd2/bar.o'\n",
      "pp_opts    = []\n",
      "self       = <distutils.unixccompiler.UnixCCompiler object at 0x124e8ddd8>\n",
      "src        = 'bar.c'\n",
      "\n",
      "/anaconda3/lib/python3.7/site-packages/numpy/distutils/unixccompiler.py:61: CompileError\n",
      "----------------------------- Captured stdout call -----------------------------\n",
      "xcode-select: note: no developer tools were found at '/Applications/Xcode.app', requesting install. Choose an option in the dialog to download the command line developer tools.\n",
      "xcode-select: note: no developer tools were found at '/Applications/Xcode.app', requesting install. Choose an option in the dialog to download the command line developer tools.\n",
      "=============================== warnings summary ===============================\n",
      "/anaconda3/lib/python3.7/site-packages/mkl_fft/_numpy_fft.py:158: FutureWarning: Using a non-tuple sequence for multidimensional indexing is deprecated; use `arr[tuple(seq)]` instead of `arr[seq]`. In the future this will be interpreted as an array index, `arr[np.array(seq)]`, which will result either in an error or a different result.\n",
      "  output = mkl_fft.fft(a, n, axis)\n",
      "\n",
      "/anaconda3/lib/python3.7/site-packages/numpy/fft/tests/test_fft.py:51: ComplexWarning: Casting complex values to real discards the imaginary part\n",
      "  a = a.astype(t1)\n",
      "\n",
      "/anaconda3/lib/python3.7/site-packages/mkl_fft/_numpy_fft.py:158: FutureWarning: Using a non-tuple sequence for multidimensional indexing is deprecated; use `arr[tuple(seq)]` instead of `arr[seq]`. In the future this will be interpreted as an array index, `arr[np.array(seq)]`, which will result either in an error or a different result.\n",
      "  output = mkl_fft.fft(a, n, axis)\n",
      "\n",
      "/anaconda3/lib/python3.7/site-packages/mkl_fft/_numpy_fft.py:331: FutureWarning: Using a non-tuple sequence for multidimensional indexing is deprecated; use `arr[tuple(seq)]` instead of `arr[seq]`. In the future this will be interpreted as an array index, `arr[np.array(seq)]`, which will result either in an error or a different result.\n"
     ]
    },
    {
     "name": "stdout",
     "output_type": "stream",
     "text": [
      "  output = mkl_fft.rfft_numpy(a, n=n, axis=axis)\n",
      "\n",
      "/anaconda3/lib/python3.7/site-packages/mkl_fft/_numpy_fft.py:158: FutureWarning: Using a non-tuple sequence for multidimensional indexing is deprecated; use `arr[tuple(seq)]` instead of `arr[seq]`. In the future this will be interpreted as an array index, `arr[np.array(seq)]`, which will result either in an error or a different result.\n",
      "  output = mkl_fft.fft(a, n, axis)\n",
      "/anaconda3/lib/python3.7/site-packages/mkl_fft/_numpy_fft.py:676: FutureWarning: Using a non-tuple sequence for multidimensional indexing is deprecated; use `arr[tuple(seq)]` instead of `arr[seq]`. In the future this will be interpreted as an array index, `arr[np.array(seq)]`, which will result either in an error or a different result.\n",
      "  output = mkl_fft.fftn(a, s, axes)\n",
      "\n",
      "/anaconda3/lib/python3.7/site-packages/mkl_fft/_numpy_fft.py:158: FutureWarning: Using a non-tuple sequence for multidimensional indexing is deprecated; use `arr[tuple(seq)]` instead of `arr[seq]`. In the future this will be interpreted as an array index, `arr[np.array(seq)]`, which will result either in an error or a different result.\n",
      "  output = mkl_fft.fft(a, n, axis)\n",
      "/anaconda3/lib/python3.7/site-packages/mkl_fft/_numpy_fft.py:331: FutureWarning: Using a non-tuple sequence for multidimensional indexing is deprecated; use `arr[tuple(seq)]` instead of `arr[seq]`. In the future this will be interpreted as an array index, `arr[np.array(seq)]`, which will result either in an error or a different result.\n",
      "  output = mkl_fft.rfft_numpy(a, n=n, axis=axis)\n",
      "\n",
      "/anaconda3/lib/python3.7/site-packages/mkl_fft/_numpy_fft.py:158: FutureWarning: Using a non-tuple sequence for multidimensional indexing is deprecated; use `arr[tuple(seq)]` instead of `arr[seq]`. In the future this will be interpreted as an array index, `arr[np.array(seq)]`, which will result either in an error or a different result.\n",
      "  output = mkl_fft.fft(a, n, axis)\n",
      "/anaconda3/lib/python3.7/site-packages/mkl_fft/_numpy_fft.py:331: FutureWarning: Using a non-tuple sequence for multidimensional indexing is deprecated; use `arr[tuple(seq)]` instead of `arr[seq]`. In the future this will be interpreted as an array index, `arr[np.array(seq)]`, which will result either in an error or a different result.\n",
      "  output = mkl_fft.rfft_numpy(a, n=n, axis=axis)\n",
      "\n",
      "-- Docs: https://docs.pytest.org/en/latest/warnings.html\n",
      "3 failed, 4643 passed, 387 skipped, 88 deselected, 9 xfailed, 10 warnings in 83.95 seconds\n"
     ]
    },
    {
     "data": {
      "text/plain": [
       "False"
      ]
     },
     "execution_count": 6,
     "metadata": {},
     "output_type": "execute_result"
    }
   ],
   "source": [
    "pd.test()"
   ]
  },
  {
   "cell_type": "code",
   "execution_count": 1,
   "metadata": {},
   "outputs": [],
   "source": [
    "import numpy as np"
   ]
  },
  {
   "cell_type": "code",
   "execution_count": 10,
   "metadata": {},
   "outputs": [],
   "source": [
    "a = np.linspace(0, 100, 11)"
   ]
  },
  {
   "cell_type": "code",
   "execution_count": 11,
   "metadata": {},
   "outputs": [
    {
     "data": {
      "text/plain": [
       "array([  0.,  10.,  20.,  30.,  40.,  50.,  60.,  70.,  80.,  90., 100.])"
      ]
     },
     "execution_count": 11,
     "metadata": {},
     "output_type": "execute_result"
    }
   ],
   "source": [
    "a"
   ]
  },
  {
   "cell_type": "code",
   "execution_count": 16,
   "metadata": {},
   "outputs": [
    {
     "data": {
      "text/plain": [
       "array([  100.,  1000., 10000.])"
      ]
     },
     "execution_count": 16,
     "metadata": {},
     "output_type": "execute_result"
    }
   ],
   "source": [
    "np.logspace(2, 4, 3)"
   ]
  },
  {
   "cell_type": "code",
   "execution_count": 19,
   "metadata": {},
   "outputs": [
    {
     "data": {
      "text/plain": [
       "array([1.e+02, 1.e+05, 1.e+08])"
      ]
     },
     "execution_count": 19,
     "metadata": {},
     "output_type": "execute_result"
    }
   ],
   "source": [
    "np.logspace(2, 8, 3)"
   ]
  },
  {
   "cell_type": "code",
   "execution_count": null,
   "metadata": {},
   "outputs": [],
   "source": []
  }
 ],
 "metadata": {
  "kernelspec": {
   "display_name": "Python 3",
   "language": "python",
   "name": "python3"
  },
  "language_info": {
   "codemirror_mode": {
    "name": "ipython",
    "version": 3
   },
   "file_extension": ".py",
   "mimetype": "text/x-python",
   "name": "python",
   "nbconvert_exporter": "python",
   "pygments_lexer": "ipython3",
   "version": "3.7.0"
  }
 },
 "nbformat": 4,
 "nbformat_minor": 2
}
