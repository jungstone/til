{
 "cells": [
  {
   "cell_type": "markdown",
   "metadata": {},
   "source": [
    "# 정규식: 문자열을 처리할 때 특정 패턴으로 문자열을 처리하고 싶을 때 사용되는 문법.\n",
    "#### match: 문자열의 가장 앞에서부터 일치하는 패턴 찾기\n",
    "#### search: 문자열에서 가장 첫번째로 일치하는 패턴 찾기\n",
    "#### findall: 일치하는 모든 패턴찾기\n",
    "#### split: 문자열을 특정 패턴으로 나누기\n",
    "#### sub: 문자열을 특정 패턴에 맞춰 대체 하기\n",
    "- pattern\n"
   ]
  },
  {
   "cell_type": "code",
   "execution_count": 2,
   "metadata": {},
   "outputs": [
    {
     "name": "stdout",
     "output_type": "stream",
     "text": [
      "result1: None\n",
      "result2: None\n"
     ]
    }
   ],
   "source": [
    "import re\n",
    "s = \"fast campus datascience fighting. datascience fighting. fast campus fighting.\"\n",
    "result1 = re.match('asd', s)\n",
    "result2 = re.match('asdf', s)\n",
    "print(\"result1:\", result1)\n",
    "print(\"result2:\", result2)"
   ]
  },
  {
   "cell_type": "code",
   "execution_count": 3,
   "metadata": {},
   "outputs": [
    {
     "name": "stdout",
     "output_type": "stream",
     "text": [
      "<re.Match object; span=(0, 4), match='fast'>\n",
      "<re.Match object; span=(5, 11), match='campus'>\n"
     ]
    }
   ],
   "source": [
    "result3 = re.search('fast', s)\n",
    "result4 = re.search('campus', s)\n",
    "print(result3)\n",
    "print(result4)"
   ]
  },
  {
   "cell_type": "code",
   "execution_count": 4,
   "metadata": {},
   "outputs": [
    {
     "name": "stdout",
     "output_type": "stream",
     "text": [
      "['fast', 'fast'] 2\n",
      "['campus', 'campus'] 2\n"
     ]
    }
   ],
   "source": [
    "result5 = re.findall('fast', s)\n",
    "result6 = re.findall('campus', s)\n",
    "print(result5, len(result5))\n",
    "print(result6, len(result6))"
   ]
  },
  {
   "cell_type": "code",
   "execution_count": 5,
   "metadata": {},
   "outputs": [
    {
     "name": "stdout",
     "output_type": "stream",
     "text": [
      "['fast ', 'mpus datascience school fighting!']\n"
     ]
    }
   ],
   "source": [
    "s1 = \"fast campus datascience school fighting!\"\n",
    "result7 = re.split('ca', s1)\n",
    "print(result7)"
   ]
  },
  {
   "cell_type": "code",
   "execution_count": 6,
   "metadata": {},
   "outputs": [
    {
     "name": "stdout",
     "output_type": "stream",
     "text": [
      "fast campus datascience school fighting! fast campus datascience school fighting!\n"
     ]
    }
   ],
   "source": [
    "s2 = \"slow campus datascience school fighting! slow campus datascience school fighting!\"\n",
    "result8 = re.sub('slow', 'fast', s2)\n",
    "print(result8)"
   ]
  },
  {
   "cell_type": "code",
   "execution_count": 7,
   "metadata": {},
   "outputs": [],
   "source": [
    "import string\n",
    "pt = string.printable"
   ]
  },
  {
   "cell_type": "code",
   "execution_count": 8,
   "metadata": {},
   "outputs": [
    {
     "data": {
      "text/plain": [
       "(100,\n",
       " '0123456789abcdefghijklmnopqrstuvwxyzABCDEFGHIJKLMNOPQRSTUVWXYZ!\"#$%&\\'()*+,-./:;<=>?@[\\\\]^_`{|}~ \\t\\n\\r\\x0b\\x0c')"
      ]
     },
     "execution_count": 8,
     "metadata": {},
     "output_type": "execute_result"
    }
   ],
   "source": [
    "len(pt),pt"
   ]
  },
  {
   "cell_type": "code",
   "execution_count": 9,
   "metadata": {},
   "outputs": [
    {
     "name": "stdout",
     "output_type": "stream",
     "text": [
      "0123456789\n",
      "abcdefghijklmnopqrstuvwxyzABCDEFGHIJKLMNOPQRSTUVWXYZ!\"#$%&'()*+,-./:;<=>?@[\\]^_`{|}~ \t\n",
      "\r",
      "\u000b",
      "\f",
      "\n"
     ]
    }
   ],
   "source": [
    "result = re.findall('\\d', pt)\n",
    "print(''.join(result))\n",
    "result = re.findall('\\D', pt)\n",
    "print(''.join(result))"
   ]
  },
  {
   "cell_type": "code",
   "execution_count": 10,
   "metadata": {},
   "outputs": [
    {
     "name": "stdout",
     "output_type": "stream",
     "text": [
      "0123456789abcdefghijklmnopqrstuvwxyzABCDEFGHIJKLMNOPQRSTUVWXYZ_\n",
      "!\"#$%&'()*+,-./:;<=>?@[\\]^`{|}~ \t\n",
      "\r",
      "\u000b",
      "\f",
      "\n"
     ]
    }
   ],
   "source": [
    "result = re.findall('\\w', pt)\n",
    "print(''.join(result))\n",
    "result = re.findall('\\W', pt)\n",
    "print(''.join(result))"
   ]
  },
  {
   "cell_type": "code",
   "execution_count": 11,
   "metadata": {},
   "outputs": [
    {
     "name": "stdout",
     "output_type": "stream",
     "text": [
      "[' ', '\\t', '\\n', '\\r', '\\x0b', '\\x0c']\n",
      "['0', '1', '2', '3', '4', '5', '6', '7', '8', '9', 'a', 'b', 'c', 'd', 'e', 'f', 'g', 'h', 'i', 'j', 'k', 'l', 'm', 'n', 'o', 'p', 'q', 'r', 's', 't', 'u', 'v', 'w', 'x', 'y', 'z', 'A', 'B', 'C', 'D', 'E', 'F', 'G', 'H', 'I', 'J', 'K', 'L', 'M', 'N', 'O', 'P', 'Q', 'R', 'S', 'T', 'U', 'V', 'W', 'X', 'Y', 'Z', '!', '\"', '#', '$', '%', '&', \"'\", '(', ')', '*', '+', ',', '-', '.', '/', ':', ';', '<', '=', '>', '?', '@', '[', '\\\\', ']', '^', '_', '`', '{', '|', '}', '~']\n"
     ]
    }
   ],
   "source": [
    "result = re.findall('\\s', pt)\n",
    "print(result)\n",
    "result = re.findall('\\S', pt)\n",
    "print(result)"
   ]
  },
  {
   "cell_type": "code",
   "execution_count": 12,
   "metadata": {},
   "outputs": [
    {
     "name": "stdout",
     "output_type": "stream",
     "text": [
      "a00000d []\n",
      "add ['add']\n",
      "aasdfsfd ['asd']\n"
     ]
    }
   ],
   "source": [
    "ls = [\"a00000d\", \"add\", \"aasdfsfd\"]\n",
    "for s in ls:\n",
    "    result = re.findall('a.d', s) # a + 모든문자하나 + b print(s, result)\n",
    "    print(s, result)"
   ]
  },
  {
   "cell_type": "code",
   "execution_count": 13,
   "metadata": {},
   "outputs": [
    {
     "name": "stdout",
     "output_type": "stream",
     "text": [
      "ac []\n",
      "abcasd ['abc']\n",
      "abbc ['abbc']\n",
      "abbbc ['abbbc']\n",
      "abbbbbbc []\n"
     ]
    }
   ],
   "source": [
    "l = [\"ac\",\"abcasd\",\"abbc\",\"abbbc\",\"abbbbbbc\"]\n",
    "for s in l:\n",
    "    result = re.findall('ab{1,3}c', s) # a + b가 1회~3회 반복 + c\n",
    "    print(s, result)\n"
   ]
  },
  {
   "cell_type": "code",
   "execution_count": 14,
   "metadata": {},
   "outputs": [
    {
     "name": "stdout",
     "output_type": "stream",
     "text": [
      "False []\n"
     ]
    }
   ],
   "source": [
    "s = \"저의 이메일 주소는 pdj1224daum.com 입니다. 또한 radajin1224@gmailcom 역시마찬가지 입니다.\"\n",
    "p = \"[0-9a-zA-Z]+@[0-9a-z]+\\.[0-9a-z]+\" \n",
    "result = True if re.search(p, s) else False \n",
    "print(result, re.findall(p,s))\n"
   ]
  },
  {
   "cell_type": "code",
   "execution_count": 15,
   "metadata": {},
   "outputs": [
    {
     "name": "stdout",
     "output_type": "stream",
     "text": [
      "True ['pdj1224@daum.com', 'radajin1224@gmail.com']\n"
     ]
    }
   ],
   "source": [
    "s = \"저의 이메일 주소는 pdj1224@daum.com 입니다. 또한 radajin1224@gmail.com 역시 마찬가지 입니다.\"\n",
    "p = \"[0-9a-zA-Z]+@[0-9a-z]+\\.[0-9a-z]+\"\n",
    "result = True if re.search(p, s) else False\n",
    "print(result, re.findall(p, s))\n"
   ]
  },
  {
   "cell_type": "code",
   "execution_count": 19,
   "metadata": {},
   "outputs": [
    {
     "name": "stdout",
     "output_type": "stream",
     "text": [
      "['fast', 'fast'] 2\n",
      "['campus', 'campus'] 2\n",
      "['f', 't campus dat', 'cience fighting. dat', 'cience fighting. f', 't campus fighting.']\n"
     ]
    }
   ],
   "source": [
    "s = \"fast campus datascience fighting. datascience fighting. fast campus fighting.\"\n",
    "result = re.findall('fast', s)\n",
    "print(result, len(result))\n",
    "result1 = re.findall('campus', s)\n",
    "print(result1, len(result1))\n",
    "result3 = re.split('as', s)\n",
    "print(result3)"
   ]
  },
  {
   "cell_type": "code",
   "execution_count": 22,
   "metadata": {},
   "outputs": [
    {
     "name": "stdout",
     "output_type": "stream",
     "text": [
      "fast campus datascience school fighting! fast campus datascience school fighting!\n"
     ]
    }
   ],
   "source": [
    "s2 = \"slow campus datascience school fighting! slow campus datascience school fighting!\"\n",
    "result4 = re.sub('slow', 'fast', s2)\n",
    "print(result4)"
   ]
  },
  {
   "cell_type": "code",
   "execution_count": 34,
   "metadata": {},
   "outputs": [
    {
     "name": "stdout",
     "output_type": "stream",
     "text": [
      "0123456789\n",
      "abcdefghijklmnopqrstuvwxyzABCDEFGHIJKLMNOPQRSTUVWXYZ!\"#$%&'()*+,-./:;<=>?@[\\]^_`{|}~ \t\n",
      "\r",
      "\u000b",
      "\f",
      "\n",
      "0123456789abcdefghijklmnopqrstuvwxyzABCDEFGHIJKLMNOPQRSTUVWXYZ_\n",
      "!\"#$%&'()*+,-./:;<=>?@[\\]^`{|}~ \t\n",
      "\r",
      "\u000b",
      "\f",
      "\n",
      " \t\n",
      "\r",
      "\u000b",
      "\f",
      "\n",
      "0123456789abcdefghijklmnopqrstuvwxyzABCDEFGHIJKLMNOPQRSTUVWXYZ!\"#$%&'()*+,-./:;<=>?@[\\]^_`{|}~\n"
     ]
    }
   ],
   "source": [
    "pt = string.printable\n",
    "result = re.findall('\\d', pt)\n",
    "print(''.join(result))\n",
    "result1 = re.findall('\\D', pt)\n",
    "print(''.join(result1))\n",
    "result3 = re.findall('\\w', pt)\n",
    "print(''.join(result3))\n",
    "result4 = re.findall('\\W', pt)\n",
    "print(''.join(result4))\n",
    "result5 = re.findall('\\s', pt)\n",
    "print(''.join(result5))\n",
    "result6 = re.findall('\\S', pt)\n",
    "print(''.join(result6))"
   ]
  },
  {
   "cell_type": "code",
   "execution_count": 36,
   "metadata": {},
   "outputs": [
    {
     "name": "stdout",
     "output_type": "stream",
     "text": [
      "[' ', '\\t', '\\n', '\\r', '\\x0b', '\\x0c']\n",
      "0123456789abcdefghijklmnopqrstuvwxyzABCDEFGHIJKLMNOPQRSTUVWXYZ!\"#$%&'()*+,-./:;<=>?@[\\]^_`{|}~\n"
     ]
    }
   ],
   "source": [
    "result5 = re.findall('\\s', pt)\n",
    "print(result5)\n",
    "result6 = re.findall('\\S', pt)\n",
    "print(''.join(result6))"
   ]
  },
  {
   "cell_type": "code",
   "execution_count": null,
   "metadata": {},
   "outputs": [],
   "source": []
  }
 ],
 "metadata": {
  "kernelspec": {
   "display_name": "Python 3",
   "language": "python",
   "name": "python3"
  },
  "language_info": {
   "codemirror_mode": {
    "name": "ipython",
    "version": 3
   },
   "file_extension": ".py",
   "mimetype": "text/x-python",
   "name": "python",
   "nbconvert_exporter": "python",
   "pygments_lexer": "ipython3",
   "version": "3.7.0"
  }
 },
 "nbformat": 4,
 "nbformat_minor": 2
}
