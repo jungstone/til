{
 "cells": [
  {
   "cell_type": "code",
   "execution_count": 1,
   "metadata": {},
   "outputs": [
    {
     "name": "stdout",
     "output_type": "stream",
     "text": [
      "game title:50\n",
      "==============================\n",
      "-             50             -\n",
      "-          v 1.0.0           -\n",
      "==============================\n",
      "gamer_name:50\n",
      "answer:50\n",
      "더 큰 수를 입력해주세요\n",
      "answer:\n",
      "숫자를 입력해 주세요\n",
      "answer:75\n",
      "더 큰 수를 입력해주세요\n",
      "answer:90\n",
      "더 큰 수를 입력해주세요\n",
      "answer:95\n",
      "더 큰 수를 입력해주세요\n",
      "answer:96\n",
      "더 큰 수를 입력해주세요\n",
      "answer:967\n",
      "100보다 작은수를 입력해주세요\n",
      "answer:97\n",
      "더 큰 수를 입력해주세요\n",
      "answer:98\n",
      "정답입니다.\n",
      "총시도 횟수: 8 점수: 20\n",
      "다시 시작하시겠습니까?no\n",
      "bye\n"
     ]
    }
   ],
   "source": [
    "while True:\n",
    "    game_title = input(('game title:'))\n",
    "    if len(game_title) > 28:\n",
    "        print('28자를 초과했습니다.')       \n",
    "    elif not game_title:                       \n",
    "        print(\"다시 입력해주세요.\")\n",
    "    else:\n",
    "        break\n",
    "TITLE_LEN = 30\n",
    "print('='*TITLE_LEN)\n",
    "txt = '-{0:^%s}-' % (TITLE_LEN - 2)\n",
    "print(txt.format(game_title))\n",
    "print(txt.format('v 1.0.0'))\n",
    "print('='*TITLE_LEN)\n",
    "while True:\n",
    "    gamer_name = input(('gamer_name:'))\n",
    "    if len(gamer_name) > 10:\n",
    "        print('10자를 초과했습니다.')       \n",
    "    elif not gamer_name:                      \n",
    "        print(\"다시 입력해주세요.\")\n",
    "    else:\n",
    "        break\n",
    "import random\n",
    "ai = random.randint(0, 100)\n",
    "count = 0\n",
    "time = 0\n",
    "while True: \n",
    "    if time > 0 : \n",
    "        restart = input('다시 시작하시겠습니까?')\n",
    "        if restart == 'yes':\n",
    "            print('good')\n",
    "        elif restart == 'no':\n",
    "            print('bye')\n",
    "            break\n",
    "        else:\n",
    "            print('다시입력해주세요')\n",
    "\n",
    "    while True:\n",
    "        ai_num = input('answer:')\n",
    "        if ai_num.isnumeric() == False:\n",
    "            print('숫자를 입력해 주세요')\n",
    "        else:\n",
    "            if int(ai_num) >= 100:\n",
    "                print('100보다 작은수를 입력해주세요')\n",
    "            elif int(ai_num) < 0:\n",
    "                print('0보다 큰 수를 입력해주세요')\n",
    "            elif int(ai_num) > ai:\n",
    "                print('더 작은 수를 입력해주세요')\n",
    "            elif int(ai_num) < ai:\n",
    "                print('더 큰 수를 입력해주세요')\n",
    "            else:\n",
    "                break\n",
    "        count += 1\n",
    "        time += 1\n",
    "    print('정답입니다.')    \n",
    "    print('총시도 횟수: {}'.format(count), '점수: {}'.format((10-count)*10)) \n",
    "\n"
   ]
  },
  {
   "cell_type": "code",
   "execution_count": 1,
   "metadata": {},
   "outputs": [],
   "source": [
    "add = lambda a,b: a+b"
   ]
  },
  {
   "cell_type": "code",
   "execution_count": 4,
   "metadata": {},
   "outputs": [
    {
     "name": "stdout",
     "output_type": "stream",
     "text": [
      "8\n"
     ]
    }
   ],
   "source": [
    "result = add(3, 5)\n",
    "print(result)"
   ]
  },
  {
   "cell_type": "code",
   "execution_count": null,
   "metadata": {},
   "outputs": [],
   "source": []
  }
 ],
 "metadata": {
  "kernelspec": {
   "display_name": "Python 3",
   "language": "python",
   "name": "python3"
  },
  "language_info": {
   "codemirror_mode": {
    "name": "ipython",
    "version": 3
   },
   "file_extension": ".py",
   "mimetype": "text/x-python",
   "name": "python",
   "nbconvert_exporter": "python",
   "pygments_lexer": "ipython3",
   "version": "3.7.0"
  }
 },
 "nbformat": 4,
 "nbformat_minor": 2
}
